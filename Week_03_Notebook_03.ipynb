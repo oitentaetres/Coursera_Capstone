{
 "cells": [
  {
   "cell_type": "markdown",
   "metadata": {},
   "source": [
    "# Segmenting and Clustering Neighborhoods in Toronto - Notebook 03"
   ]
  },
  {
   "cell_type": "markdown",
   "metadata": {},
   "source": [
    "## First insert your Foursquare API credentials, please:"
   ]
  },
  {
   "cell_type": "code",
   "execution_count": null,
   "metadata": {},
   "outputs": [],
   "source": [
    "CLIENT_ID = 'XXXXX'\n",
    "CLIENT_SECRET = 'XXXXX'\n",
    "VERSION = '20180605'\n",
    "\n",
    "print('Your credentails:')\n",
    "print('CLIENT_ID: ' + CLIENT_ID)\n",
    "print('CLIENT_SECRET:' + CLIENT_SECRET)"
   ]
  },
  {
   "cell_type": "markdown",
   "metadata": {},
   "source": [
    "## Installing the (possibly) missing libraries:"
   ]
  },
  {
   "cell_type": "code",
   "execution_count": null,
   "metadata": {},
   "outputs": [],
   "source": [
    "!conda install -c conda-forge folium=0.5.0 --yes"
   ]
  },
  {
   "cell_type": "code",
   "execution_count": null,
   "metadata": {},
   "outputs": [],
   "source": [
    "!conda install -c conda-forge geopy --yes"
   ]
  },
  {
   "cell_type": "markdown",
   "metadata": {},
   "source": [
    "## Importing all the libraries at one time:"
   ]
  },
  {
   "cell_type": "code",
   "execution_count": null,
   "metadata": {},
   "outputs": [],
   "source": [
    "import folium\n",
    "\n",
    "from geopy.geocoders import Nominatim\n",
    "\n",
    "import json\n",
    "\n",
    "import matplotlib.cm as cm\n",
    "import matplotlib.colors as colors\n",
    "\n",
    "import numpy as np\n",
    "\n",
    "import pandas as pd\n",
    "from pandas.io.json import json_normalize\n",
    "\n",
    "import requests\n",
    "\n",
    "from sklearn.cluster import KMeans\n",
    "\n",
    "print('Libraries imported!')"
   ]
  },
  {
   "cell_type": "markdown",
   "metadata": {},
   "source": [
    "## Reading the data from the URL and selecting the first returned table:"
   ]
  },
  {
   "cell_type": "code",
   "execution_count": null,
   "metadata": {},
   "outputs": [],
   "source": [
    "postal_df = pd.read_html('https://en.wikipedia.org/wiki/List_of_postal_codes_of_Canada:_M')[0]\n",
    "\n",
    "print('Data read!')"
   ]
  },
  {
   "cell_type": "markdown",
   "metadata": {},
   "source": [
    "## Naming the columns accordingly to what is expected:"
   ]
  },
  {
   "cell_type": "code",
   "execution_count": null,
   "metadata": {},
   "outputs": [],
   "source": [
    "postal_df.columns = ['PostalCode', 'Borough', 'Neighborhood']"
   ]
  },
  {
   "cell_type": "markdown",
   "metadata": {},
   "source": [
    "## A first look at our data:"
   ]
  },
  {
   "cell_type": "code",
   "execution_count": null,
   "metadata": {},
   "outputs": [],
   "source": [
    "postal_df.head(10)"
   ]
  },
  {
   "cell_type": "markdown",
   "metadata": {},
   "source": [
    "## Removing the rows with invalid borough entries: "
   ]
  },
  {
   "cell_type": "code",
   "execution_count": null,
   "metadata": {},
   "outputs": [],
   "source": [
    "postal_df = postal_df[postal_df.Borough != 'Not assigned']\n",
    "\n",
    "postal_df.reset_index(drop = True, inplace = True)"
   ]
  },
  {
   "cell_type": "markdown",
   "metadata": {},
   "source": [
    "## Fixing the invalid neighborhood entries:"
   ]
  },
  {
   "cell_type": "code",
   "execution_count": null,
   "metadata": {},
   "outputs": [],
   "source": [
    "for i in range(len(postal_df)):\n",
    "    \n",
    "    if postal_df.loc[i, 'Neighborhood'] == 'Not assigned':\n",
    "    \n",
    "        postal_df.loc[i, 'Neighborhood'] = postal_df.loc[i, 'Borough']"
   ]
  },
  {
   "cell_type": "markdown",
   "metadata": {},
   "source": [
    "## All right, let's look at our dataframe with the fixed entries for boroughs and neighborhoods:"
   ]
  },
  {
   "cell_type": "code",
   "execution_count": null,
   "metadata": {},
   "outputs": [],
   "source": [
    "postal_df.head(10)"
   ]
  },
  {
   "cell_type": "markdown",
   "metadata": {},
   "source": [
    "## Creating a new dataframe to contain the grouped neighborhood entries:"
   ]
  },
  {
   "cell_type": "code",
   "execution_count": null,
   "metadata": {},
   "outputs": [],
   "source": [
    "output_df = postal_df.drop_duplicates(['PostalCode', 'Borough']).copy()\n",
    "\n",
    "output_df.reset_index(drop = True, inplace = True)\n",
    "\n",
    "for i in range(len(output_df)):\n",
    "    \n",
    "    nh_list = []\n",
    "    \n",
    "    for j in range(len(postal_df)):\n",
    "    \n",
    "        if postal_df.loc[j, 'PostalCode'] == output_df.loc[i, 'PostalCode']:\n",
    "        \n",
    "            if postal_df.loc[j, 'Borough'] == output_df.loc[i, 'Borough']:\n",
    "            \n",
    "                nh_list.append(postal_df.loc[j, 'Neighborhood'])\n",
    "    \n",
    "    nh_string = nh_list[0]\n",
    "    \n",
    "    for k in range(1, len(nh_list)):\n",
    "    \n",
    "        nh_string = nh_string + ', ' + nh_list[k]\n",
    "    \n",
    "    output_df.loc[i, 'Neighborhood'] = nh_string    "
   ]
  },
  {
   "cell_type": "markdown",
   "metadata": {},
   "source": [
    "## Looking at the first ten results of our operations:"
   ]
  },
  {
   "cell_type": "code",
   "execution_count": null,
   "metadata": {},
   "outputs": [],
   "source": [
    "output_df.head(10)"
   ]
  },
  {
   "cell_type": "markdown",
   "metadata": {},
   "source": [
    "## Checking the number of rows of our dataframe with grouped neighborhoods: "
   ]
  },
  {
   "cell_type": "code",
   "execution_count": null,
   "metadata": {},
   "outputs": [],
   "source": [
    "print(\"Number of rows: {}\".format(output_df.shape[0]))"
   ]
  },
  {
   "cell_type": "markdown",
   "metadata": {},
   "source": [
    "## Downloading the geospatial database:"
   ]
  },
  {
   "cell_type": "code",
   "execution_count": null,
   "metadata": {},
   "outputs": [],
   "source": [
    "!wget -q -O Geospatial_data.csv https://cocl.us/Geospatial_data\n",
    "    \n",
    "print('Data downloaded!')"
   ]
  },
  {
   "cell_type": "markdown",
   "metadata": {},
   "source": [
    "## Loading the geospatial database into a Pandas dataframe and checking the data:"
   ]
  },
  {
   "cell_type": "code",
   "execution_count": null,
   "metadata": {},
   "outputs": [],
   "source": [
    "geospatial_df = pd.read_csv('Geospatial_data.csv')\n",
    "\n",
    "geospatial_df.columns = ['PostalCode', 'Latitude', 'Longitude']\n",
    "\n",
    "geospatial_df.head(10)"
   ]
  },
  {
   "cell_type": "markdown",
   "metadata": {},
   "source": [
    "## Creating two new columns in our main dataframe:"
   ]
  },
  {
   "cell_type": "code",
   "execution_count": null,
   "metadata": {},
   "outputs": [],
   "source": [
    "output_df['Latitude'] = pd.Series()\n",
    "output_df['Longitude'] = pd.Series()"
   ]
  },
  {
   "cell_type": "markdown",
   "metadata": {},
   "source": [
    "## Filling the new columns with data gathered from the geospatial dataframe: "
   ]
  },
  {
   "cell_type": "code",
   "execution_count": null,
   "metadata": {},
   "outputs": [],
   "source": [
    "for i in range(len(output_df)):\n",
    "    \n",
    "    code = output_df.loc[i, 'PostalCode']\n",
    "    \n",
    "    latitude = geospatial_df.loc[geospatial_df.PostalCode == code]['Latitude'].values[0]\n",
    "    \n",
    "    longitude = geospatial_df.loc[geospatial_df.PostalCode == code]['Longitude'].values[0]\n",
    "    \n",
    "    output_df.loc[i, 'Latitude'] = latitude\n",
    "    \n",
    "    output_df.loc[i, 'Longitude'] = longitude"
   ]
  },
  {
   "cell_type": "markdown",
   "metadata": {},
   "source": [
    "## Checking the results of our operations:"
   ]
  },
  {
   "cell_type": "code",
   "execution_count": null,
   "metadata": {},
   "outputs": [],
   "source": [
    "output_df.head(10)"
   ]
  },
  {
   "cell_type": "markdown",
   "metadata": {},
   "source": [
    "## Creating the Toronto map:"
   ]
  },
  {
   "cell_type": "code",
   "execution_count": null,
   "metadata": {},
   "outputs": [],
   "source": [
    "address = 'Toronto'\n",
    "\n",
    "geolocator = Nominatim(user_agent = \"myExplorer\")\n",
    "\n",
    "location = geolocator.geocode(address)\n",
    "\n",
    "latitude = location.latitude\n",
    "longitude = location.longitude\n",
    "\n",
    "print('The geograpical coordinates of Toronto are {}º and {}º.'.format(latitude, longitude))"
   ]
  },
  {
   "cell_type": "code",
   "execution_count": null,
   "metadata": {},
   "outputs": [],
   "source": [
    "# Creating the map:\n",
    "\n",
    "mapToronto = folium.Map(location = [latitude, longitude], zoom_start = 10, min_zoom = 9, max_zoom = 14)\n",
    "\n",
    "# Plottng the Postal Codes:\n",
    "\n",
    "for code, lat, long, borough, neighborhood in zip(\n",
    "    output_df['PostalCode'], \n",
    "    output_df['Latitude'], \n",
    "    output_df['Longitude'], \n",
    "    output_df['Borough'], \n",
    "    output_df['Neighborhood']):\n",
    "    \n",
    "    label = '{} ({}) - {}'.format(code, neighborhood, borough)\n",
    "    label = folium.Popup(label, parse_html = True)\n",
    "    \n",
    "    marker = folium.CircleMarker(\n",
    "        [lat, long],\n",
    "        radius = 5,\n",
    "        popup = label,\n",
    "        color = 'blue',\n",
    "        fill = True,\n",
    "        fill_color = '#3186cc',\n",
    "        fill_opacity = 0.7,\n",
    "        parse_html = False)\n",
    "    \n",
    "    marker.add_to(mapToronto)\n",
    "    \n",
    "# Showing the map:\n",
    "    \n",
    "mapToronto"
   ]
  },
  {
   "cell_type": "markdown",
   "metadata": {},
   "source": [
    "## Tasks related to the THIRD part of the project:"
   ]
  },
  {
   "cell_type": "markdown",
   "metadata": {},
   "source": [
    "### Recycled function to get the venues by location using the Foursquare API:"
   ]
  },
  {
   "cell_type": "code",
   "execution_count": null,
   "metadata": {},
   "outputs": [],
   "source": [
    "def getNearbyVenues(names, latitudes, longitudes, radius = 500, limit = 100):\n",
    "    \n",
    "    venues_list = []\n",
    "    \n",
    "    for name, lat, lng in zip(names, latitudes, longitudes):\n",
    "            \n",
    "        url = 'https://api.foursquare.com/v2/venues/explore?&client_id={}&client_secret={}&v={}&ll={},{}&radius={}&limit={}'.format(\n",
    "            CLIENT_ID, \n",
    "            CLIENT_SECRET, \n",
    "            VERSION, \n",
    "            lat, \n",
    "            lng, \n",
    "            radius, \n",
    "            limit)\n",
    "\n",
    "        results = requests.get(url).json()[\"response\"]['groups'][0]['items']\n",
    "\n",
    "        venues_list.append([(\n",
    "            name, \n",
    "            lat, \n",
    "            lng, \n",
    "            v['venue']['name'], \n",
    "            v['venue']['location']['lat'], \n",
    "            v['venue']['location']['lng'],  \n",
    "            v['venue']['categories'][0]['name']) for v in results])\n",
    "\n",
    "    nearby_venues = pd.DataFrame([item for venue_list in venues_list for item in venue_list])\n",
    "    nearby_venues.columns = ['PostalCode', \n",
    "                  'Latitude', \n",
    "                  'Longitude', \n",
    "                  'Venue', \n",
    "                  'Venue Latitude', \n",
    "                  'Venue Longitude', \n",
    "                  'Venue Category']\n",
    "    \n",
    "    return(nearby_venues)"
   ]
  },
  {
   "cell_type": "markdown",
   "metadata": {},
   "source": [
    "### Recycled function to get the most common venues by location:"
   ]
  },
  {
   "cell_type": "code",
   "execution_count": null,
   "metadata": {},
   "outputs": [],
   "source": [
    "def return_most_common_venues(row, num_top_venues):\n",
    "    \n",
    "    row_categories = row.iloc[1:]\n",
    "    row_categories_sorted = row_categories.sort_values(ascending = False)\n",
    "    \n",
    "    return row_categories_sorted.index.values[0:num_top_venues]"
   ]
  },
  {
   "cell_type": "markdown",
   "metadata": {},
   "source": [
    "## I decided to work with the boroughs that contain the word \"Toronto\" in their name, since they are the \"core\" of the city. So, let's select them:"
   ]
  },
  {
   "cell_type": "code",
   "execution_count": null,
   "metadata": {},
   "outputs": [],
   "source": [
    "boroughs = output_df[output_df['Borough'].str.contains('Toronto')].drop_duplicates('Borough')['Borough'].sort_values().to_list()\n",
    "\n",
    "print(boroughs)"
   ]
  },
  {
   "cell_type": "markdown",
   "metadata": {},
   "source": [
    "## And now we generate a new dataframe selecting only the Postal Codes that are located in the selected boroughs: "
   ]
  },
  {
   "cell_type": "code",
   "execution_count": null,
   "metadata": {},
   "outputs": [],
   "source": [
    "centralTorontoData = output_df[output_df['Borough'].isin(boroughs)].reset_index(drop = True) \n",
    "\n",
    "centralTorontoData.head(10)"
   ]
  },
  {
   "cell_type": "markdown",
   "metadata": {},
   "source": [
    "## NOTE: I decided to keep working with the Postal Codes because the Geospatial Database is more stable than the Geocoder. "
   ]
  },
  {
   "cell_type": "markdown",
   "metadata": {},
   "source": [
    "## Now let's create a first map of the studied region, including the four central boroughs of Toronto:"
   ]
  },
  {
   "cell_type": "code",
   "execution_count": null,
   "metadata": {},
   "outputs": [],
   "source": [
    "# Using the mean coordinates of the studied region as the center of the map:\n",
    "\n",
    "meanLatitude = centralTorontoData['Latitude'].mean()\n",
    "meanLongitude = centralTorontoData['Longitude'].mean()\n",
    "\n",
    "# Creating the map:\n",
    "\n",
    "mapCentralToronto = folium.Map(location = [meanLatitude, meanLongitude], zoom_start = 12, min_zoom = 10, max_zoom = 14)\n",
    "\n",
    "# Plotting the Postal Codes:\n",
    "\n",
    "for code, borough, neighborhood, lat, long in zip(\n",
    "    centralTorontoData['PostalCode'], \n",
    "    centralTorontoData['Borough'],\n",
    "    centralTorontoData['Neighborhood'],\n",
    "    centralTorontoData['Latitude'], \n",
    "    centralTorontoData['Longitude']):\n",
    "    \n",
    "    label = '{} ({}) - {}'.format(code, neighborhood, borough)\n",
    "    label = folium.Popup(label, parse_html = True)\n",
    "    \n",
    "    marker = folium.CircleMarker(\n",
    "        [lat, long],\n",
    "        radius = 5,\n",
    "        popup = label,\n",
    "        color = 'blue',\n",
    "        fill = True,\n",
    "        fill_color = '#3186cc',\n",
    "        fill_opacity = 0.7,\n",
    "        parse_html = False)\n",
    "    \n",
    "    marker.add_to(mapCentralToronto) \n",
    "\n",
    "# Showing the map:\n",
    "    \n",
    "mapCentralToronto"
   ]
  },
  {
   "cell_type": "markdown",
   "metadata": {},
   "source": [
    "## Using the declared function getNearbyVenues to search for nearby venues:"
   ]
  },
  {
   "cell_type": "code",
   "execution_count": null,
   "metadata": {},
   "outputs": [],
   "source": [
    "centralTorontoVenues = getNearbyVenues(\n",
    "    names = centralTorontoData['PostalCode'],\n",
    "    latitudes = centralTorontoData['Latitude'],\n",
    "    longitudes = centralTorontoData['Longitude'])\n",
    "\n",
    "centralTorontoVenues.head(10)"
   ]
  },
  {
   "cell_type": "markdown",
   "metadata": {},
   "source": [
    "## Checking the number of venues by Postal Code:"
   ]
  },
  {
   "cell_type": "code",
   "execution_count": null,
   "metadata": {},
   "outputs": [],
   "source": [
    "centralTorontoVenues.groupby('PostalCode')['Venue'].count()"
   ]
  },
  {
   "cell_type": "markdown",
   "metadata": {},
   "source": [
    "## Checking the total of venues:"
   ]
  },
  {
   "cell_type": "code",
   "execution_count": null,
   "metadata": {},
   "outputs": [],
   "source": [
    "n = centralTorontoVenues['Venue'].count()\n",
    "print('There are {} different venues.'.format(n))"
   ]
  },
  {
   "cell_type": "markdown",
   "metadata": {},
   "source": [
    "## Checking the number of different categories of venues:"
   ]
  },
  {
   "cell_type": "code",
   "execution_count": null,
   "metadata": {},
   "outputs": [],
   "source": [
    "n = len(centralTorontoVenues['Venue Category'].unique())\n",
    "print('There are {} uniques categories.'.format(n))"
   ]
  },
  {
   "cell_type": "markdown",
   "metadata": {},
   "source": [
    "## Using one hot encoding to generate a new dataframe:"
   ]
  },
  {
   "cell_type": "code",
   "execution_count": null,
   "metadata": {},
   "outputs": [],
   "source": [
    "centralTorontoVenues_onehot = pd.get_dummies(centralTorontoVenues[['Venue Category']], prefix = \"\", prefix_sep = \"\")\n",
    "centralTorontoVenues_onehot['PostalCode'] = centralTorontoVenues['PostalCode'] \n",
    "fixed_columns = [centralTorontoVenues_onehot.columns[-1]] + list(centralTorontoVenues_onehot.columns[:-1])\n",
    "centralTorontoVenues_onehot = centralTorontoVenues_onehot[fixed_columns]\n",
    "\n",
    "centralTorontoVenues_onehot.head(10)"
   ]
  },
  {
   "cell_type": "markdown",
   "metadata": {},
   "source": [
    "## Grouping and normalizing the new dataframe:"
   ]
  },
  {
   "cell_type": "code",
   "execution_count": null,
   "metadata": {},
   "outputs": [],
   "source": [
    "centralTorontoVenues_onehot = centralTorontoVenues_onehot.groupby('PostalCode').mean().reset_index()\n",
    "centralTorontoVenues_onehot.head(10)"
   ]
  },
  {
   "cell_type": "code",
   "execution_count": null,
   "metadata": {},
   "outputs": [],
   "source": [
    "num_top_venues = 5\n",
    "\n",
    "for code in centralTorontoVenues_onehot['PostalCode']:\n",
    "    print(\"---- \" + code + \" ----\")\n",
    "    temp = centralTorontoVenues_onehot[centralTorontoVenues_onehot['PostalCode'] == code].T.reset_index()\n",
    "    temp.columns = ['venue', 'freq']\n",
    "    temp = temp.iloc[1:]\n",
    "    temp['freq'] = temp['freq'].astype(float)\n",
    "    temp = temp.round({'freq': 2})\n",
    "    print(temp.sort_values('freq', ascending = False).reset_index(drop = True).head(num_top_venues))\n",
    "    print('\\n')"
   ]
  },
  {
   "cell_type": "markdown",
   "metadata": {},
   "source": [
    "## Creating a new dataframe with the sorted most common venues by Postal Code:"
   ]
  },
  {
   "cell_type": "code",
   "execution_count": null,
   "metadata": {},
   "outputs": [],
   "source": [
    "num_top_venues = 10\n",
    "\n",
    "indicators = ['st', 'nd', 'rd']\n",
    "\n",
    "columns = ['PostalCode']\n",
    "\n",
    "for ind in np.arange(num_top_venues):\n",
    "    n = (ind + 1)\n",
    "    try:\n",
    "        columns.append('{}{} Most Common Venue'.format(n, indicators[ind]))\n",
    "    except:\n",
    "        columns.append('{}th Most Common Venue'.format(n))\n",
    "\n",
    "centralTorontoVenues_onehot_sorted = pd.DataFrame(columns = columns)\n",
    "centralTorontoVenues_onehot_sorted['PostalCode'] = centralTorontoVenues_onehot['PostalCode']\n",
    "\n",
    "for ind in np.arange(centralTorontoVenues_onehot.shape[0]):\n",
    "    centralTorontoVenues_onehot_sorted.iloc[ind, 1:] = return_most_common_venues(centralTorontoVenues_onehot.iloc[ind, :], num_top_venues)\n",
    "\n",
    "centralTorontoVenues_onehot_sorted.head(10)"
   ]
  },
  {
   "cell_type": "markdown",
   "metadata": {},
   "source": [
    "## Using the KMeans algorithm to cluster the Postal Codes by their (dis)similarity: "
   ]
  },
  {
   "cell_type": "code",
   "execution_count": null,
   "metadata": {},
   "outputs": [],
   "source": [
    "k = 5\n",
    "\n",
    "centralTorontoVenues_clustering = centralTorontoVenues_onehot.drop('PostalCode', 1)\n",
    "\n",
    "kmeans = KMeans(n_clusters = k, random_state = 0).fit(centralTorontoVenues_clustering)\n",
    "\n",
    "print('Generated KMeans labels:\\n')\n",
    "print(kmeans.labels_)"
   ]
  },
  {
   "cell_type": "markdown",
   "metadata": {},
   "source": [
    "## Merging the generated data to assign the cluster label and the most common venues to each Postal Code:"
   ]
  },
  {
   "cell_type": "code",
   "execution_count": null,
   "metadata": {},
   "outputs": [],
   "source": [
    "centralTorontoMerged = centralTorontoData.copy()\n",
    "\n",
    "centralTorontoMerged.insert(1, 'Cluster Label', kmeans.labels_)\n",
    "\n",
    "centralTorontoMerged = centralTorontoMerged.join(centralTorontoVenues_onehot_sorted.set_index('PostalCode'), on = 'PostalCode')\n",
    "\n",
    "centralTorontoMerged.head(10)"
   ]
  },
  {
   "cell_type": "markdown",
   "metadata": {},
   "source": [
    "## Creating the map of the clusters:"
   ]
  },
  {
   "cell_type": "code",
   "execution_count": null,
   "metadata": {},
   "outputs": [],
   "source": [
    "# Creating the map:\n",
    "\n",
    "mapClusters = folium.Map(location = [meanLatitude, meanLongitude], zoom_start = 12, min_zoom = 10, max_zoom = 14)\n",
    "\n",
    "# Defining the clusters colors:\n",
    "\n",
    "x = np.arange(k)\n",
    "ys = [i + x + (i*x)**2 for i in range(k)]\n",
    "colors_array = cm.rainbow(np.linspace(0, 1, len(ys)))\n",
    "rainbow = [colors.rgb2hex(i) for i in colors_array]\n",
    "\n",
    "# Plotting the clusters:\n",
    "\n",
    "for code, cluster, borough, neighborhood, lat, long in zip(\n",
    "    centralTorontoMerged['PostalCode'],\n",
    "    centralTorontoMerged['Cluster Label'],\n",
    "    centralTorontoMerged['Borough'],\n",
    "    centralTorontoMerged['Neighborhood'],\n",
    "    centralTorontoMerged['Latitude'], \n",
    "    centralTorontoMerged['Longitude']):\n",
    "    \n",
    "    label = 'Cluster {}: {} ({}) - {}'.format((cluster + 1), code, neighborhood, borough)\n",
    "    label = folium.Popup(label, parse_html = True)\n",
    "    \n",
    "    marker = folium.CircleMarker(\n",
    "        [lat, long],\n",
    "        radius = 5,\n",
    "        popup = label,\n",
    "        color = rainbow[cluster - 1],\n",
    "        fill = True,\n",
    "        fill_color = rainbow[cluster - 1],\n",
    "        fill_opacity = 0.7)\n",
    "    \n",
    "    marker.add_to(mapClusters)\n",
    "    \n",
    "# Showing the map:\n",
    "       \n",
    "mapClusters"
   ]
  },
  {
   "cell_type": "markdown",
   "metadata": {},
   "source": [
    "## Examining the clusters:"
   ]
  },
  {
   "cell_type": "markdown",
   "metadata": {},
   "source": [
    "### Cluster 1:"
   ]
  },
  {
   "cell_type": "code",
   "execution_count": null,
   "metadata": {},
   "outputs": [],
   "source": [
    "centralTorontoMerged.loc[\n",
    "    centralTorontoMerged['Cluster Label'] == 0, \n",
    "    centralTorontoMerged.columns[[0, 3] + list(range(6, centralTorontoMerged.shape[1]))]]"
   ]
  },
  {
   "cell_type": "markdown",
   "metadata": {},
   "source": [
    "### Cluster 2:"
   ]
  },
  {
   "cell_type": "code",
   "execution_count": null,
   "metadata": {},
   "outputs": [],
   "source": [
    "centralTorontoMerged.loc[\n",
    "    centralTorontoMerged['Cluster Label'] == 1, \n",
    "    centralTorontoMerged.columns[[0, 3] + list(range(6, centralTorontoMerged.shape[1]))]]"
   ]
  },
  {
   "cell_type": "markdown",
   "metadata": {},
   "source": [
    "### Cluster 3:"
   ]
  },
  {
   "cell_type": "code",
   "execution_count": null,
   "metadata": {},
   "outputs": [],
   "source": [
    "centralTorontoMerged.loc[\n",
    "    centralTorontoMerged['Cluster Label'] == 2, \n",
    "    centralTorontoMerged.columns[[0, 3] + list(range(6, centralTorontoMerged.shape[1]))]]"
   ]
  },
  {
   "cell_type": "markdown",
   "metadata": {},
   "source": [
    "### Cluster 4:"
   ]
  },
  {
   "cell_type": "code",
   "execution_count": null,
   "metadata": {},
   "outputs": [],
   "source": [
    "centralTorontoMerged.loc[\n",
    "    centralTorontoMerged['Cluster Label'] == 3, \n",
    "    centralTorontoMerged.columns[[0, 3] + list(range(6, centralTorontoMerged.shape[1]))]]"
   ]
  },
  {
   "cell_type": "markdown",
   "metadata": {},
   "source": [
    "### Cluster 5:"
   ]
  },
  {
   "cell_type": "code",
   "execution_count": null,
   "metadata": {},
   "outputs": [],
   "source": [
    "centralTorontoMerged.loc[\n",
    "    centralTorontoMerged['Cluster Label'] == 4, \n",
    "    centralTorontoMerged.columns[[0, 3] + list(range(6, centralTorontoMerged.shape[1]))]]"
   ]
  },
  {
   "cell_type": "code",
   "execution_count": null,
   "metadata": {},
   "outputs": [],
   "source": []
  }
 ],
 "metadata": {
  "kernelspec": {
   "display_name": "Python 3.6",
   "language": "python",
   "name": "python3"
  },
  "language_info": {
   "codemirror_mode": {
    "name": "ipython",
    "version": 3
   },
   "file_extension": ".py",
   "mimetype": "text/x-python",
   "name": "python",
   "nbconvert_exporter": "python",
   "pygments_lexer": "ipython3",
   "version": "3.6.8"
  }
 },
 "nbformat": 4,
 "nbformat_minor": 1
}
