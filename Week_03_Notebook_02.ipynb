{
 "cells": [
  {
   "cell_type": "markdown",
   "metadata": {},
   "source": [
    "# Segmenting and Clustering Neighborhoods in Toronto - Notebook 02"
   ]
  },
  {
   "cell_type": "markdown",
   "metadata": {},
   "source": [
    "## Importing the Pandas library:"
   ]
  },
  {
   "cell_type": "code",
   "execution_count": null,
   "metadata": {},
   "outputs": [],
   "source": [
    "import pandas as pd"
   ]
  },
  {
   "cell_type": "markdown",
   "metadata": {},
   "source": [
    "## Reading the data from the URL and selecting the first returned table:"
   ]
  },
  {
   "cell_type": "code",
   "execution_count": null,
   "metadata": {},
   "outputs": [],
   "source": [
    "postal_df = pd.read_html('https://en.wikipedia.org/wiki/List_of_postal_codes_of_Canada:_M')[0]"
   ]
  },
  {
   "cell_type": "markdown",
   "metadata": {},
   "source": [
    "## Naming the columns accordingly to what is expected:"
   ]
  },
  {
   "cell_type": "code",
   "execution_count": null,
   "metadata": {},
   "outputs": [],
   "source": [
    "postal_df.columns = ['PostalCode', 'Borough', 'Neighborhood']"
   ]
  },
  {
   "cell_type": "markdown",
   "metadata": {},
   "source": [
    "## A first look at our data:"
   ]
  },
  {
   "cell_type": "code",
   "execution_count": null,
   "metadata": {},
   "outputs": [],
   "source": [
    "postal_df.head(10)"
   ]
  },
  {
   "cell_type": "markdown",
   "metadata": {},
   "source": [
    "## Removing the rows with invalid borough entries: "
   ]
  },
  {
   "cell_type": "code",
   "execution_count": null,
   "metadata": {},
   "outputs": [],
   "source": [
    "postal_df = postal_df[postal_df.Borough != 'Not assigned']\n",
    "\n",
    "postal_df.reset_index(drop = True, inplace = True)"
   ]
  },
  {
   "cell_type": "markdown",
   "metadata": {},
   "source": [
    "## Correcting the invalid neighborhood entries:"
   ]
  },
  {
   "cell_type": "code",
   "execution_count": null,
   "metadata": {},
   "outputs": [],
   "source": [
    "for i in range(len(postal_df)):\n",
    "    \n",
    "    if postal_df.loc[i, 'Neighborhood'] == 'Not assigned':\n",
    "    \n",
    "        postal_df.loc[i, 'Neighborhood'] = postal_df.loc[i, 'Borough']"
   ]
  },
  {
   "cell_type": "markdown",
   "metadata": {},
   "source": [
    "## Looking at our dataframe with the corrected values for boroughs and neighborhoods:"
   ]
  },
  {
   "cell_type": "code",
   "execution_count": null,
   "metadata": {},
   "outputs": [],
   "source": [
    "postal_df.head(10)"
   ]
  },
  {
   "cell_type": "markdown",
   "metadata": {},
   "source": [
    "## Creating a new dataframe to contain the grouped neighborhood entries:"
   ]
  },
  {
   "cell_type": "code",
   "execution_count": null,
   "metadata": {},
   "outputs": [],
   "source": [
    "output_df = postal_df.drop_duplicates(['PostalCode', 'Borough']).copy()\n",
    "\n",
    "output_df.reset_index(drop = True, inplace = True)\n",
    "\n",
    "for i in range(len(output_df)):\n",
    "    \n",
    "    nh_list = []\n",
    "    \n",
    "    for j in range(len(postal_df)):\n",
    "    \n",
    "        if postal_df.loc[j, 'PostalCode'] == output_df.loc[i, 'PostalCode']:\n",
    "        \n",
    "            if postal_df.loc[j, 'Borough'] == output_df.loc[i, 'Borough']:\n",
    "            \n",
    "                nh_list.append(postal_df.loc[j, 'Neighborhood'])\n",
    "    \n",
    "    nh_string = nh_list[0]\n",
    "    \n",
    "    for k in range(1, len(nh_list)):\n",
    "    \n",
    "        nh_string = nh_string + ', ' + nh_list[k]\n",
    "    \n",
    "    output_df.loc[i, 'Neighborhood'] = nh_string    "
   ]
  },
  {
   "cell_type": "markdown",
   "metadata": {},
   "source": [
    "## Looking at the first ten results of our operations:"
   ]
  },
  {
   "cell_type": "code",
   "execution_count": null,
   "metadata": {},
   "outputs": [],
   "source": [
    "output_df.head(10)"
   ]
  },
  {
   "cell_type": "markdown",
   "metadata": {},
   "source": [
    "## Checking the number of rows of our dataframe with grouped neighborhoods: "
   ]
  },
  {
   "cell_type": "code",
   "execution_count": null,
   "metadata": {},
   "outputs": [],
   "source": [
    "print(\"Number of rows: {}\".format(output_df.shape[0]))"
   ]
  },
  {
   "cell_type": "markdown",
   "metadata": {},
   "source": [
    "## Downloading the geospatial database:"
   ]
  },
  {
   "cell_type": "code",
   "execution_count": null,
   "metadata": {},
   "outputs": [],
   "source": [
    "!wget -O Geospatial_data.csv https://cocl.us/Geospatial_data"
   ]
  },
  {
   "cell_type": "markdown",
   "metadata": {},
   "source": [
    "## Loading the geospatial database into a Pandas dataframe and checking the data:"
   ]
  },
  {
   "cell_type": "code",
   "execution_count": null,
   "metadata": {},
   "outputs": [],
   "source": [
    "geospatial_df = pd.read_csv('Geospatial_data.csv')\n",
    "\n",
    "geospatial_df.columns = ['PostalCode', 'Latitude', 'Longitude']\n",
    "\n",
    "geospatial_df.head()"
   ]
  },
  {
   "cell_type": "markdown",
   "metadata": {},
   "source": [
    "## Creating two new columns in our main dataframe:"
   ]
  },
  {
   "cell_type": "code",
   "execution_count": null,
   "metadata": {},
   "outputs": [],
   "source": [
    "output_df['Latitude'] = pd.Series()\n",
    "\n",
    "output_df['Longitude'] = pd.Series()"
   ]
  },
  {
   "cell_type": "markdown",
   "metadata": {},
   "source": [
    "## Filling the new columns with data gathered from the geospatial dataframe: "
   ]
  },
  {
   "cell_type": "code",
   "execution_count": null,
   "metadata": {},
   "outputs": [],
   "source": [
    "for i in range(len(output_df)):\n",
    "    \n",
    "    code = output_df.loc[i, 'PostalCode']\n",
    "    \n",
    "    latitude = geospatial_df.loc[geospatial_df.PostalCode == code]['Latitude'].values[0]\n",
    "    \n",
    "    longitude = geospatial_df.loc[geospatial_df.PostalCode == code]['Longitude'].values[0]\n",
    "    \n",
    "    output_df.loc[i, 'Latitude'] = latitude\n",
    "    \n",
    "    output_df.loc[i, 'Longitude'] = longitude"
   ]
  },
  {
   "cell_type": "markdown",
   "metadata": {},
   "source": [
    "## Checking the results of our operations:"
   ]
  },
  {
   "cell_type": "code",
   "execution_count": null,
   "metadata": {},
   "outputs": [],
   "source": [
    "output_df.head(10)"
   ]
  }
 ],
 "metadata": {
  "kernelspec": {
   "display_name": "Python 3.6",
   "language": "python",
   "name": "python3"
  },
  "language_info": {
   "codemirror_mode": {
    "name": "ipython",
    "version": 3
   },
   "file_extension": ".py",
   "mimetype": "text/x-python",
   "name": "python",
   "nbconvert_exporter": "python",
   "pygments_lexer": "ipython3",
   "version": "3.6.8"
  }
 },
 "nbformat": 4,
 "nbformat_minor": 1
}
